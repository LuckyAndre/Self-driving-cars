{
 "cells": [
  {
   "cell_type": "code",
   "execution_count": 1,
   "metadata": {},
   "outputs": [],
   "source": [
    "import re\n",
    "from math import sin, cos, acos, pi\n",
    "from decimal import Decimal\n",
    "import pandas as pd"
   ]
  },
  {
   "cell_type": "code",
   "execution_count": 2,
   "metadata": {},
   "outputs": [],
   "source": [
    "geo_dct = {'lat':[],'lon':[],'ts':[]}\n",
    "ctrl_dct = {'control_switch_on':[],'ts':[]}"
   ]
  },
  {
   "cell_type": "code",
   "execution_count": 3,
   "metadata": {},
   "outputs": [],
   "source": [
    "# Процедура парсинга\n",
    "def control_parse(s, dct):\n",
    "    pattern_ctrl = ':[a-z]+'\n",
    "    pattern_ts1 = ':[0-9]+' \n",
    "    ctrl_type = re.findall(pattern_ctrl, s)\n",
    "    ts = re.findall(pattern_ts1, s)\n",
    "    dct['control_switch_on'].append(ctrl_type[0][1:])\n",
    "    dct['ts'].append(int(ts[0][1:]))"
   ]
  },
  {
   "cell_type": "code",
   "execution_count": 4,
   "metadata": {},
   "outputs": [],
   "source": [
    "# Процедура парсинга\n",
    "def geo_parse(s, dct):\n",
    "    pattern_lat = '\"lat\":[0-9]*[.]*[0-9]*' \n",
    "    pattern_lon = '\"lon\":[-]*[0-9]*[.]*[0-9]*'\n",
    "    pattern_ts2 = '\"ts\":[0-9]+'\n",
    "    lat = re.findall(pattern_lat,s)\n",
    "    lon = re.findall(pattern_lon,s)\n",
    "    ts = re.findall(pattern_ts2,s)\n",
    "    dct['lat'].append(Decimal(lat[0][6:]))\n",
    "    dct['lon'].append(Decimal(lon[0][6:]))\n",
    "    dct['ts'].append(Decimal(ts[0][5:]))"
   ]
  },
  {
   "cell_type": "code",
   "execution_count": 5,
   "metadata": {},
   "outputs": [],
   "source": [
    "# Выгрузка данных и парсинг\n",
    "with open('C:/Users/Andrei/Python files/','r') as file:\n",
    "    for line in file:\n",
    "        if line[2] == 'c':\n",
    "            control_parse(line, ctrl_dct)\n",
    "        else:\n",
    "            geo_parse(line, geo_dct)"
   ]
  },
  {
   "cell_type": "code",
   "execution_count": 6,
   "metadata": {},
   "outputs": [],
   "source": [
    "# Создание df для geo\n",
    "geo_df = pd.DataFrame.from_dict(geo_dct)\n",
    "geo_df = geo_df.sort_values(by='ts', ascending=True) # сортировка по времени\n",
    "\n",
    "# Очистка от нулевых данных\n",
    "zero_index = geo_df[geo_df['lon']==0].index.values.tolist()\n",
    "geo_df.drop(index=zero_index, inplace = True)\n",
    "geo_df.reset_index(drop = True, inplace = True) # cбрасываем индексы"
   ]
  },
  {
   "cell_type": "code",
   "execution_count": 8,
   "metadata": {},
   "outputs": [],
   "source": [
    "# Создание df для control_switch_on\n",
    "ctrl_df = pd.DataFrame.from_dict(ctrl_dct)\n",
    "booleanDictionary = {'true': True, 'false': False}\n",
    "ctrl_df['control_switch_on'] = ctrl_df['control_switch_on'].map(booleanDictionary)\n",
    "ctrl_df = ctrl_df.sort_values(by='ts', ascending=True) # сортировка по времени\n",
    "ctrl_df.reset_index(drop = True, inplace = True) # cбрасываем индексы"
   ]
  },
  {
   "cell_type": "code",
   "execution_count": 9,
   "metadata": {},
   "outputs": [],
   "source": [
    "# Создается вспомогательный df, который будет содержать режимы переключения между pnt1 и pnt2\n",
    "# На основе этого df будет сделан подсчёт времени нахождения в каждом из режимов\n",
    "def support_df(t1, t2, lst, dfc):\n",
    "    df = dfc.loc[lst,:]\n",
    "    df.reset_index(drop = True, inplace = True) # Появились дубли индексов, поэтому обновляем\n",
    "    new_ind = df.index.values.tolist()\n",
    "    \n",
    "    # Обновляем время начала и конца\n",
    "    df.loc[new_ind[0],'ts'] = t1 \n",
    "    df.loc[new_ind[-1],'ts'] = t2\n",
    "    return df   "
   ]
  },
  {
   "cell_type": "code",
   "execution_count": 10,
   "metadata": {},
   "outputs": [],
   "source": [
    "# Процедура подсчёта времени управления каждого типа\n",
    "def time_slots(pnt1, pnt2, dfc, i_search):    \n",
    "\n",
    "    # Индекс до pnt1\n",
    "    ind_bellow = [] \n",
    "    if i_search == -1: # (начало процесса, когда меток времени может и не быть)\n",
    "        i = 0\n",
    "        while (i< dfc.shape[0]) and (dfc.loc[i,'ts']<=pnt1.ts):\n",
    "            ind_bellow = [i]\n",
    "            i += 1\n",
    "    else:\n",
    "        ind_bellow = [i_search] # Nая итерация - берём результаты предыдущего шага\n",
    "    \n",
    "    \n",
    "    # Индексы  между pnt1, pnt2\n",
    "    ind = [] \n",
    "    i = i_search+1\n",
    "    while (i< dfc.shape[0]) and (dfc.loc[i,'ts']<=pnt2.ts):\n",
    "        ind.append(i)\n",
    "        i += 1   \n",
    "    \n",
    "    \n",
    "    # Возможны следующие ситуации:\n",
    "    # 1. данных по режиму нет: geo1_TS --> geo2_TS\n",
    "    # 2. данные по режиму появляются в середине: geo1_TS --> control_switch_on1_TS --> geo2_TS \n",
    "    # 3. данные по режиму есть только до: control_switch_on1_TS --> geo1_TS --> geo2_TS\n",
    "    # 4. данные по режиму есть везде: control_switch_on1_TS --> geo1_TS --> control_switch_on2_TS (может быть много переключений) --> geo2_TS \n",
    "    \n",
    "    # В этой переменной считаем время управления ручного, автоматического и неизвестного типа:\n",
    "    c_dct = {None:[], True:[], False:[]} \n",
    "    \n",
    "    # 1.\n",
    "    if ind_bellow == [] and ind == []:\n",
    "        #print('Ситуация1')\n",
    "        c_dct[None]=[pnt2.ts-pnt1.ts]\n",
    "        i_search = -1\n",
    "        return (c_dct, i_search)\n",
    "        \n",
    "    # 2.\n",
    "    if ind_bellow == [] and ind != []:\n",
    "        #print('Ситуация2')\n",
    "        mid_ind = ind[0]\n",
    "        c_dct[None]=[dfc.loc[mid_ind,'ts'] - pnt1.ts]\n",
    "        \n",
    "        # Список индексов\n",
    "        last_ind = [ind[-1]]         \n",
    "        ind = ind + last_ind\n",
    "        \n",
    "        result_df = support_df(dfc.loc[mid_ind,'ts'], pnt2.ts, ind, dfc)\n",
    "        new_ind = result_df.index.values.tolist() \n",
    "        # Считаем время управления ручного и автоматического\n",
    "        for i in new_ind[0:-1]:\n",
    "            c_dct[result_df.loc[i,'control_switch_on']].append(result_df.loc[i+1,'ts'] - result_df.loc[i,'ts'])\n",
    "        i_search = last_ind[0]\n",
    "        return (c_dct, i_search)\n",
    "   \n",
    "\n",
    "    # 3\n",
    "    if ind_bellow != [] and ind == []:\n",
    "        #print('Ситуация3')\n",
    "        prev_ind = ind_bellow[0] # Int \n",
    "        c_dct[dfc.loc[prev_ind,'control_switch_on']] = [pnt1.ts - pnt2.ts]\n",
    "        i_search = prev_ind\n",
    "        return (c_dct, i_search)\n",
    "    \n",
    "    # 4.\n",
    "    if ind_bellow != [] and ind != []:\n",
    "        #print('Ситуация4')\n",
    "        # Список индексов\n",
    "        prev_ind = ind_bellow # list \n",
    "        last_ind = [ind[-1]]         \n",
    "        ind = prev_ind + ind + last_ind\n",
    "        \n",
    "        result_df = support_df(pnt1.ts, pnt2.ts, ind, dfc)\n",
    "        new_ind = result_df.index.values.tolist() \n",
    "        # Считаем время управления ручного и автоматического\n",
    "        for i in new_ind[0:-1]:\n",
    "            c_dct[result_df.loc[i,'control_switch_on']].append(result_df.loc[i+1,'ts'] - result_df.loc[i,'ts'])\n",
    "        i_search = last_ind[0]\n",
    "        return (c_dct, i_search)\n",
    "    "
   ]
  },
  {
   "cell_type": "code",
   "execution_count": 11,
   "metadata": {},
   "outputs": [],
   "source": [
    "# cos(d) = sin(φА)·sin(φB) + cos(φА)·cos(φB)·cos(λА − λB),\n",
    "# где φА и φB — широты, λА, λB — долготы данных пунктов, d — расстояние между пунктами, измеряемое в радианах длиной\n",
    "# L = d·R, где R = 6371 км — средний радиус земного шара\n",
    "# для проверки: Москва\t55.755773\t37.617761, Санкт-Петербург\t59.938806\t30.314278\n",
    "# msk = pd.Series([55.755773, 37.617761],index = ['lat', 'lon']) \n",
    "# spb = pd.Series([59.938806, 30.314278],index = ['lat', 'lon'])\n",
    "\n",
    "def distance(pnt1, pnt2):\n",
    "    R = Decimal(6371210) # Cредний радиус земного шара\n",
    "    k = Decimal(pi)/Decimal(180) # Перевод в радианы\n",
    "    cosd = sin(k*pnt1.lat)*sin(k*pnt2.lat) + cos(k*pnt1.lat)*cos(k*pnt2.lat)*cos(k*abs(pnt1.lon - pnt2.lon))\n",
    "    \n",
    "    if  cosd>1 or cosd<-1: # защита от погрешностей вроде 1.0000000000000002\n",
    "        cosd = round(cosd)\n",
    "                  \n",
    "    d = acos(cosd)\n",
    "    distance = Decimal(d)*R   \n",
    "    return distance"
   ]
  },
  {
   "cell_type": "code",
   "execution_count": 12,
   "metadata": {
    "scrolled": false
   },
   "outputs": [
    {
     "name": "stdout",
     "output_type": "stream",
     "text": [
      "{True: Decimal('2676.183626275058990815636921'), False: Decimal('273.7120606998044576627037347'), None: Decimal('3.322844952344894409179687500')}\n"
     ]
    }
   ],
   "source": [
    "all_dist_dct = {True:0, False:0, None:0}\n",
    "index_lst = geo_df.index.values.tolist()\n",
    "index_for_search = -1 # Индекс для навигации по ctrl_df (т.к. он отсортирован)\n",
    "\n",
    "for i in index_lst[0:-1]:\n",
    "    pnt1 = geo_df.loc[i,:]\n",
    "    pnt2 = geo_df.loc[i+1,:]    \n",
    "\n",
    "    dist_pnt1_pnt2 = distance(pnt1, pnt2)\n",
    "    time_pnt1_pnt2, index_for_search = time_slots(pnt1, pnt2, ctrl_df, index_for_search)\n",
    "    t_true = sum(time_pnt1_pnt2[True]) # Можно упростить, если в процедуре считать не в список\n",
    "    t_false = sum(time_pnt1_pnt2[False]) # Можно упростить, если в процедуре считать не в список\n",
    "    t_none = sum(time_pnt1_pnt2[None]) # Можно упростить, если в процедуре считать не в список\n",
    "    \n",
    "    all_dist_dct[True] += dist_pnt1_pnt2*t_true/(t_true + t_false + t_none)\n",
    "    all_dist_dct[False] += dist_pnt1_pnt2*t_false/(t_true + t_false + t_none)\n",
    "    all_dist_dct[None] += dist_pnt1_pnt2*t_none/(t_true + t_false + t_none)\n",
    "            \n",
    "print(all_dist_dct)"
   ]
  },
  {
   "cell_type": "code",
   "execution_count": null,
   "metadata": {},
   "outputs": [],
   "source": []
  }
 ],
 "metadata": {
  "kernelspec": {
   "display_name": "Python 3",
   "language": "python",
   "name": "python3"
  },
  "language_info": {
   "codemirror_mode": {
    "name": "ipython",
    "version": 3
   },
   "file_extension": ".py",
   "mimetype": "text/x-python",
   "name": "python",
   "nbconvert_exporter": "python",
   "pygments_lexer": "ipython3",
   "version": "3.7.7"
  }
 },
 "nbformat": 4,
 "nbformat_minor": 2
}
